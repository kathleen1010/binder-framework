{
 "cells": [
  {
   "cell_type": "markdown",
   "id": "bcec6bdc",
   "metadata": {},
   "source": [
    "# TDI Milestone Action Items"
   ]
  },
  {
   "cell_type": "markdown",
   "id": "c7891424",
   "metadata": {},
   "source": [
    "### Pandas/Numpy Action Items"
   ]
  },
  {
   "cell_type": "markdown",
   "id": "1485d7c9",
   "metadata": {},
   "source": [
    "Call packages"
   ]
  },
  {
   "cell_type": "code",
   "execution_count": 1,
   "id": "6fb8a57a",
   "metadata": {},
   "outputs": [],
   "source": [
    "import pandas as pd\n",
    "import matplotlib.pyplot as plt"
   ]
  },
  {
   "cell_type": "markdown",
   "id": "bc5d2b13",
   "metadata": {},
   "source": [
    "Import data: two options here. \n",
    "1. Download the data from binder to local files and set the path to your appropriate local folder. This code is commented out. \n",
    "2. Option two for online use: use the variable \"url\" to pull the data directly from the cityofnewyork website. "
   ]
  },
  {
   "cell_type": "code",
   "execution_count": null,
   "id": "4c5a3850",
   "metadata": {},
   "outputs": [],
   "source": [
    "#path = 'C:/Users/Kathleen/Documents/GitWorkspace/binder-framework/'\n",
    "#ecdata = pd.read_csv(path + 'Value_of_Energy_Cost_Savings_Program_Savings_for_Businesses_20231207.csv') "
   ]
  },
  {
   "cell_type": "code",
   "execution_count": 3,
   "id": "bb5d7f67",
   "metadata": {},
   "outputs": [],
   "source": [
    "url = 'https://data.cityofnewyork.us/api/views/bug8-9f3g/rows.csv?date=20231230&accessType=DOWNLOAD'\n",
    "ecdata = pd.read_csv(url, header =0 , encoding='utf-8',\n",
    "                     sep=',',)"
   ]
  },
  {
   "cell_type": "markdown",
   "id": "05c4e12c",
   "metadata": {},
   "source": [
    "Explore the data"
   ]
  },
  {
   "cell_type": "code",
   "execution_count": 4,
   "id": "3677c475",
   "metadata": {},
   "outputs": [
    {
     "name": "stdout",
     "output_type": "stream",
     "text": [
      "<class 'pandas.core.frame.DataFrame'>\n",
      "RangeIndex: 2363 entries, 0 to 2362\n",
      "Data columns (total 30 columns):\n",
      " #   Column                                     Non-Null Count  Dtype  \n",
      "---  ------                                     --------------  -----  \n",
      " 0   Period                                     2363 non-null   object \n",
      " 1   Company Name                               2363 non-null   object \n",
      " 2   company contact                            2363 non-null   object \n",
      " 3   company email                              2234 non-null   object \n",
      " 4   company phone                              2360 non-null   object \n",
      " 5   Address                                    2363 non-null   object \n",
      " 6   City                                       2357 non-null   object \n",
      " 7   State                                      2363 non-null   object \n",
      " 8   Postcode                                   2363 non-null   int64  \n",
      " 9   Industry                                   2363 non-null   object \n",
      " 10  Industry descr                             2164 non-null   object \n",
      " 11  Company Type                               2363 non-null   object \n",
      " 12  Current fulltime                           2350 non-null   float64\n",
      " 13  Job created                                229 non-null    float64\n",
      " 14  Job retain                                 339 non-null    float64\n",
      " 15  Effective Date                             2363 non-null   object \n",
      " 16  Total Savings                              2363 non-null   float64\n",
      " 17  Savings from beginning receiving benefits  2363 non-null   float64\n",
      " 18  Gas Savings                                801 non-null    float64\n",
      " 19  Cogen savings                              801 non-null    float64\n",
      " 20  Electric Savings                           801 non-null    float64\n",
      " 21  Borough                                    2149 non-null   object \n",
      " 22  Latitude                                   2144 non-null   float64\n",
      " 23  Longitude                                  2144 non-null   float64\n",
      " 24  Community Board                            2144 non-null   float64\n",
      " 25  Council District                           2144 non-null   float64\n",
      " 26  BIN                                        2111 non-null   float64\n",
      " 27  BBL                                        2111 non-null   float64\n",
      " 28  Census Tract (2020)                        2144 non-null   float64\n",
      " 29  Neighborhood Tabulation Area (NTA) (2020)  2144 non-null   object \n",
      "dtypes: float64(15), int64(1), object(14)\n",
      "memory usage: 554.0+ KB\n"
     ]
    }
   ],
   "source": [
    "ecdata.info()"
   ]
  },
  {
   "cell_type": "markdown",
   "id": "72e8612e",
   "metadata": {},
   "source": [
    "Explore the data (part 2)"
   ]
  },
  {
   "cell_type": "code",
   "execution_count": 6,
   "id": "c570d14b",
   "metadata": {},
   "outputs": [
    {
     "data": {
      "text/html": [
       "<div>\n",
       "<style scoped>\n",
       "    .dataframe tbody tr th:only-of-type {\n",
       "        vertical-align: middle;\n",
       "    }\n",
       "\n",
       "    .dataframe tbody tr th {\n",
       "        vertical-align: top;\n",
       "    }\n",
       "\n",
       "    .dataframe thead th {\n",
       "        text-align: right;\n",
       "    }\n",
       "</style>\n",
       "<table border=\"1\" class=\"dataframe\">\n",
       "  <thead>\n",
       "    <tr style=\"text-align: right;\">\n",
       "      <th></th>\n",
       "      <th>Postcode</th>\n",
       "      <th>Current fulltime</th>\n",
       "      <th>Job created</th>\n",
       "      <th>Job retain</th>\n",
       "      <th>Total Savings</th>\n",
       "      <th>Savings from beginning receiving benefits</th>\n",
       "      <th>Gas Savings</th>\n",
       "      <th>Cogen savings</th>\n",
       "      <th>Electric Savings</th>\n",
       "      <th>Latitude</th>\n",
       "      <th>Longitude</th>\n",
       "      <th>Community Board</th>\n",
       "      <th>Council District</th>\n",
       "      <th>BIN</th>\n",
       "      <th>BBL</th>\n",
       "      <th>Census Tract (2020)</th>\n",
       "    </tr>\n",
       "  </thead>\n",
       "  <tbody>\n",
       "    <tr>\n",
       "      <th>count</th>\n",
       "      <td>2363.000000</td>\n",
       "      <td>2350.000000</td>\n",
       "      <td>229.000000</td>\n",
       "      <td>339.000000</td>\n",
       "      <td>2.363000e+03</td>\n",
       "      <td>2.363000e+03</td>\n",
       "      <td>801.000000</td>\n",
       "      <td>801.000000</td>\n",
       "      <td>8.010000e+02</td>\n",
       "      <td>2144.000000</td>\n",
       "      <td>2144.000000</td>\n",
       "      <td>2144.000000</td>\n",
       "      <td>2144.000000</td>\n",
       "      <td>2.111000e+03</td>\n",
       "      <td>2.111000e+03</td>\n",
       "      <td>2144.000000</td>\n",
       "    </tr>\n",
       "    <tr>\n",
       "      <th>mean</th>\n",
       "      <td>11117.511215</td>\n",
       "      <td>111.891064</td>\n",
       "      <td>66.733624</td>\n",
       "      <td>135.035398</td>\n",
       "      <td>3.586161e+04</td>\n",
       "      <td>3.670538e+05</td>\n",
       "      <td>1556.253458</td>\n",
       "      <td>775.068964</td>\n",
       "      <td>2.971005e+04</td>\n",
       "      <td>40.724748</td>\n",
       "      <td>-73.938047</td>\n",
       "      <td>319.817631</td>\n",
       "      <td>27.615205</td>\n",
       "      <td>3.303459e+06</td>\n",
       "      <td>3.173351e+09</td>\n",
       "      <td>8139.259328</td>\n",
       "    </tr>\n",
       "    <tr>\n",
       "      <th>std</th>\n",
       "      <td>2227.676611</td>\n",
       "      <td>477.751105</td>\n",
       "      <td>749.200494</td>\n",
       "      <td>371.523489</td>\n",
       "      <td>1.501716e+05</td>\n",
       "      <td>1.668895e+06</td>\n",
       "      <td>9690.273878</td>\n",
       "      <td>10073.585193</td>\n",
       "      <td>1.133967e+05</td>\n",
       "      <td>0.058004</td>\n",
       "      <td>0.066153</td>\n",
       "      <td>92.695266</td>\n",
       "      <td>10.715503</td>\n",
       "      <td>9.796819e+05</td>\n",
       "      <td>9.367395e+08</td>\n",
       "      <td>15674.506202</td>\n",
       "    </tr>\n",
       "    <tr>\n",
       "      <th>min</th>\n",
       "      <td>10001.000000</td>\n",
       "      <td>0.000000</td>\n",
       "      <td>1.000000</td>\n",
       "      <td>1.000000</td>\n",
       "      <td>-1.099101e+05</td>\n",
       "      <td>0.000000e+00</td>\n",
       "      <td>-16353.890000</td>\n",
       "      <td>0.000000</td>\n",
       "      <td>-4.867951e+04</td>\n",
       "      <td>40.537235</td>\n",
       "      <td>-74.230740</td>\n",
       "      <td>101.000000</td>\n",
       "      <td>1.000000</td>\n",
       "      <td>1.000006e+06</td>\n",
       "      <td>1.000058e+09</td>\n",
       "      <td>2.000000</td>\n",
       "    </tr>\n",
       "    <tr>\n",
       "      <th>25%</th>\n",
       "      <td>11101.000000</td>\n",
       "      <td>10.000000</td>\n",
       "      <td>4.000000</td>\n",
       "      <td>14.000000</td>\n",
       "      <td>1.761375e+03</td>\n",
       "      <td>1.854265e+04</td>\n",
       "      <td>0.000000</td>\n",
       "      <td>0.000000</td>\n",
       "      <td>1.461500e+03</td>\n",
       "      <td>40.676734</td>\n",
       "      <td>-73.976013</td>\n",
       "      <td>301.000000</td>\n",
       "      <td>22.000000</td>\n",
       "      <td>3.008798e+06</td>\n",
       "      <td>3.006120e+09</td>\n",
       "      <td>286.000000</td>\n",
       "    </tr>\n",
       "    <tr>\n",
       "      <th>50%</th>\n",
       "      <td>11205.000000</td>\n",
       "      <td>27.500000</td>\n",
       "      <td>10.000000</td>\n",
       "      <td>36.000000</td>\n",
       "      <td>6.192290e+03</td>\n",
       "      <td>5.831049e+04</td>\n",
       "      <td>0.000000</td>\n",
       "      <td>0.000000</td>\n",
       "      <td>5.832510e+03</td>\n",
       "      <td>40.726669</td>\n",
       "      <td>-73.937847</td>\n",
       "      <td>307.000000</td>\n",
       "      <td>27.000000</td>\n",
       "      <td>3.336906e+06</td>\n",
       "      <td>3.038820e+09</td>\n",
       "      <td>974.500000</td>\n",
       "    </tr>\n",
       "    <tr>\n",
       "      <th>75%</th>\n",
       "      <td>11232.000000</td>\n",
       "      <td>70.000000</td>\n",
       "      <td>15.000000</td>\n",
       "      <td>84.000000</td>\n",
       "      <td>1.962452e+04</td>\n",
       "      <td>1.827293e+05</td>\n",
       "      <td>0.000000</td>\n",
       "      <td>0.000000</td>\n",
       "      <td>1.791193e+04</td>\n",
       "      <td>40.753900</td>\n",
       "      <td>-73.906823</td>\n",
       "      <td>402.000000</td>\n",
       "      <td>35.250000</td>\n",
       "      <td>4.005214e+06</td>\n",
       "      <td>4.004160e+09</td>\n",
       "      <td>9302.000000</td>\n",
       "    </tr>\n",
       "    <tr>\n",
       "      <th>max</th>\n",
       "      <td>91331.000000</td>\n",
       "      <td>15898.000000</td>\n",
       "      <td>11343.000000</td>\n",
       "      <td>2964.000000</td>\n",
       "      <td>3.998240e+06</td>\n",
       "      <td>3.355135e+07</td>\n",
       "      <td>162239.120000</td>\n",
       "      <td>210858.000000</td>\n",
       "      <td>2.210101e+06</td>\n",
       "      <td>40.900509</td>\n",
       "      <td>-73.722866</td>\n",
       "      <td>503.000000</td>\n",
       "      <td>51.000000</td>\n",
       "      <td>5.168823e+06</td>\n",
       "      <td>5.073280e+09</td>\n",
       "      <td>152902.000000</td>\n",
       "    </tr>\n",
       "  </tbody>\n",
       "</table>\n",
       "</div>"
      ],
      "text/plain": [
       "           Postcode  Current fulltime   Job created   Job retain  \\\n",
       "count   2363.000000       2350.000000    229.000000   339.000000   \n",
       "mean   11117.511215        111.891064     66.733624   135.035398   \n",
       "std     2227.676611        477.751105    749.200494   371.523489   \n",
       "min    10001.000000          0.000000      1.000000     1.000000   \n",
       "25%    11101.000000         10.000000      4.000000    14.000000   \n",
       "50%    11205.000000         27.500000     10.000000    36.000000   \n",
       "75%    11232.000000         70.000000     15.000000    84.000000   \n",
       "max    91331.000000      15898.000000  11343.000000  2964.000000   \n",
       "\n",
       "       Total Savings  Savings from beginning receiving benefits  \\\n",
       "count   2.363000e+03                               2.363000e+03   \n",
       "mean    3.586161e+04                               3.670538e+05   \n",
       "std     1.501716e+05                               1.668895e+06   \n",
       "min    -1.099101e+05                               0.000000e+00   \n",
       "25%     1.761375e+03                               1.854265e+04   \n",
       "50%     6.192290e+03                               5.831049e+04   \n",
       "75%     1.962452e+04                               1.827293e+05   \n",
       "max     3.998240e+06                               3.355135e+07   \n",
       "\n",
       "         Gas Savings  Cogen savings  Electric Savings     Latitude  \\\n",
       "count     801.000000     801.000000      8.010000e+02  2144.000000   \n",
       "mean     1556.253458     775.068964      2.971005e+04    40.724748   \n",
       "std      9690.273878   10073.585193      1.133967e+05     0.058004   \n",
       "min    -16353.890000       0.000000     -4.867951e+04    40.537235   \n",
       "25%         0.000000       0.000000      1.461500e+03    40.676734   \n",
       "50%         0.000000       0.000000      5.832510e+03    40.726669   \n",
       "75%         0.000000       0.000000      1.791193e+04    40.753900   \n",
       "max    162239.120000  210858.000000      2.210101e+06    40.900509   \n",
       "\n",
       "         Longitude  Community Board  Council District           BIN  \\\n",
       "count  2144.000000      2144.000000       2144.000000  2.111000e+03   \n",
       "mean    -73.938047       319.817631         27.615205  3.303459e+06   \n",
       "std       0.066153        92.695266         10.715503  9.796819e+05   \n",
       "min     -74.230740       101.000000          1.000000  1.000006e+06   \n",
       "25%     -73.976013       301.000000         22.000000  3.008798e+06   \n",
       "50%     -73.937847       307.000000         27.000000  3.336906e+06   \n",
       "75%     -73.906823       402.000000         35.250000  4.005214e+06   \n",
       "max     -73.722866       503.000000         51.000000  5.168823e+06   \n",
       "\n",
       "                BBL  Census Tract (2020)  \n",
       "count  2.111000e+03          2144.000000  \n",
       "mean   3.173351e+09          8139.259328  \n",
       "std    9.367395e+08         15674.506202  \n",
       "min    1.000058e+09             2.000000  \n",
       "25%    3.006120e+09           286.000000  \n",
       "50%    3.038820e+09           974.500000  \n",
       "75%    4.004160e+09          9302.000000  \n",
       "max    5.073280e+09        152902.000000  "
      ]
     },
     "execution_count": 6,
     "metadata": {},
     "output_type": "execute_result"
    }
   ],
   "source": [
    "summary = ecdata.describe()\n",
    "summary"
   ]
  },
  {
   "cell_type": "markdown",
   "id": "718bf3a6",
   "metadata": {},
   "source": [
    "#### 1. How many different companies are represented in the data set?"
   ]
  },
  {
   "cell_type": "code",
   "execution_count": 7,
   "id": "3f77749a",
   "metadata": {},
   "outputs": [
    {
     "data": {
      "text/plain": [
       "787"
      ]
     },
     "execution_count": 7,
     "metadata": {},
     "output_type": "execute_result"
    }
   ],
   "source": [
    "len(set(ecdata[\"Company Name\"])) "
   ]
  },
  {
   "cell_type": "markdown",
   "id": "c99edc95",
   "metadata": {},
   "source": [
    "#### 2. What is the total number of jobs created for businesses in Queens? "
   ]
  },
  {
   "cell_type": "markdown",
   "id": "ee187bbd",
   "metadata": {},
   "source": [
    "Answered in two different ways, using groupby and using filtering with loc. "
   ]
  },
  {
   "cell_type": "code",
   "execution_count": 8,
   "id": "ce3d7049",
   "metadata": {},
   "outputs": [
    {
     "data": {
      "text/plain": [
       "1196.0"
      ]
     },
     "execution_count": 8,
     "metadata": {},
     "output_type": "execute_result"
    }
   ],
   "source": [
    "ecdata.groupby([\"Borough\"]).get_group(\"QUEENS\")[\"Job created\"].sum()"
   ]
  },
  {
   "cell_type": "code",
   "execution_count": 9,
   "id": "4c115af6",
   "metadata": {},
   "outputs": [
    {
     "data": {
      "text/plain": [
       "Job created    1196.0\n",
       "dtype: float64"
      ]
     },
     "execution_count": 9,
     "metadata": {},
     "output_type": "execute_result"
    }
   ],
   "source": [
    "ecdata.loc[ecdata[\"Borough\"] == \"QUEENS\", [\"Job created\"]].sum()"
   ]
  },
  {
   "cell_type": "markdown",
   "id": "32e555d4",
   "metadata": {},
   "source": [
    "#### 3. How many different unique email domains names are there in the data set?"
   ]
  },
  {
   "cell_type": "markdown",
   "id": "78f07825",
   "metadata": {},
   "source": [
    "find the email data"
   ]
  },
  {
   "cell_type": "code",
   "execution_count": 10,
   "id": "98af0e9b",
   "metadata": {},
   "outputs": [
    {
     "name": "stdout",
     "output_type": "stream",
     "text": [
      "<class 'pandas.core.frame.DataFrame'>\n",
      "RangeIndex: 2363 entries, 0 to 2362\n",
      "Data columns (total 30 columns):\n",
      " #   Column                                     Non-Null Count  Dtype  \n",
      "---  ------                                     --------------  -----  \n",
      " 0   Period                                     2363 non-null   object \n",
      " 1   Company Name                               2363 non-null   object \n",
      " 2   company contact                            2363 non-null   object \n",
      " 3   company email                              2234 non-null   object \n",
      " 4   company phone                              2360 non-null   object \n",
      " 5   Address                                    2363 non-null   object \n",
      " 6   City                                       2357 non-null   object \n",
      " 7   State                                      2363 non-null   object \n",
      " 8   Postcode                                   2363 non-null   int64  \n",
      " 9   Industry                                   2363 non-null   object \n",
      " 10  Industry descr                             2164 non-null   object \n",
      " 11  Company Type                               2363 non-null   object \n",
      " 12  Current fulltime                           2350 non-null   float64\n",
      " 13  Job created                                229 non-null    float64\n",
      " 14  Job retain                                 339 non-null    float64\n",
      " 15  Effective Date                             2363 non-null   object \n",
      " 16  Total Savings                              2363 non-null   float64\n",
      " 17  Savings from beginning receiving benefits  2363 non-null   float64\n",
      " 18  Gas Savings                                801 non-null    float64\n",
      " 19  Cogen savings                              801 non-null    float64\n",
      " 20  Electric Savings                           801 non-null    float64\n",
      " 21  Borough                                    2149 non-null   object \n",
      " 22  Latitude                                   2144 non-null   float64\n",
      " 23  Longitude                                  2144 non-null   float64\n",
      " 24  Community Board                            2144 non-null   float64\n",
      " 25  Council District                           2144 non-null   float64\n",
      " 26  BIN                                        2111 non-null   float64\n",
      " 27  BBL                                        2111 non-null   float64\n",
      " 28  Census Tract (2020)                        2144 non-null   float64\n",
      " 29  Neighborhood Tabulation Area (NTA) (2020)  2144 non-null   object \n",
      "dtypes: float64(15), int64(1), object(14)\n",
      "memory usage: 554.0+ KB\n"
     ]
    }
   ],
   "source": [
    "ecdata.columns\n",
    "ecdata.info()"
   ]
  },
  {
   "cell_type": "markdown",
   "id": "39cb5ab2",
   "metadata": {},
   "source": [
    "make a function to convert strings to lower (not all values are strings, some are na)"
   ]
  },
  {
   "cell_type": "code",
   "execution_count": null,
   "id": "67b38809",
   "metadata": {},
   "outputs": [],
   "source": [
    "def ifstringlower(datapoint): \n",
    "    if isinstance(datapoint, str):\n",
    "        return datapoint.lower()\n",
    "    else:\n",
    "        return datapoint"
   ]
  },
  {
   "cell_type": "markdown",
   "id": "2ac0e1dc",
   "metadata": {},
   "source": [
    "apply the function "
   ]
  },
  {
   "cell_type": "code",
   "execution_count": null,
   "id": "56e15327",
   "metadata": {},
   "outputs": [],
   "source": [
    "ecdata[\"company email\"] = ecdata[\"company email\"].apply(ifstringlower) "
   ]
  },
  {
   "cell_type": "markdown",
   "id": "e7d215da",
   "metadata": {},
   "source": [
    "separate the series into its own object"
   ]
  },
  {
   "cell_type": "code",
   "execution_count": null,
   "id": "16c7abfd",
   "metadata": {},
   "outputs": [],
   "source": [
    "emails = ecdata[\"company email\"] "
   ]
  },
  {
   "cell_type": "markdown",
   "id": "9b35deed",
   "metadata": {},
   "source": [
    "use split to parse on the @ sign into two columns "
   ]
  },
  {
   "cell_type": "code",
   "execution_count": null,
   "id": "4654a177",
   "metadata": {},
   "outputs": [],
   "source": [
    "emails_split = emails.str.split('@', n=1, expand = True).rename(columns = {0: \"user\", 1: \"domain\"})\n",
    "emails_split.head()"
   ]
  },
  {
   "cell_type": "markdown",
   "id": "8822c85b",
   "metadata": {},
   "source": [
    "count unique values "
   ]
  },
  {
   "cell_type": "code",
   "execution_count": null,
   "id": "1cdf4311",
   "metadata": {},
   "outputs": [],
   "source": [
    "emails_split[\"domain\"].dropna().nunique() #the pandas way is nunique\n"
   ]
  },
  {
   "cell_type": "code",
   "execution_count": null,
   "id": "7be35ae2",
   "metadata": {},
   "outputs": [],
   "source": [
    "len(set(emails_split[\"domain\"].dropna())) #double check  with the set method. \n"
   ]
  },
  {
   "cell_type": "markdown",
   "id": "fe2ff3c4",
   "metadata": {},
   "source": [
    "#### 4. Considering only NTAs with at least 5 listed businesses, what is the average total savings and the total jobs created for each NTA?\n",
    "\n"
   ]
  },
  {
   "cell_type": "markdown",
   "id": "a98de01e",
   "metadata": {},
   "source": [
    "Make col name easier to work with "
   ]
  },
  {
   "cell_type": "code",
   "execution_count": null,
   "id": "67db8dea",
   "metadata": {},
   "outputs": [],
   "source": [
    "ecdata.rename(columns={\"Neighborhood Tabulation Area (NTA) (2020)\" : \"NTA\"}, inplace=True)\n",
    "ecdata.columns"
   ]
  },
  {
   "cell_type": "markdown",
   "id": "403f8829",
   "metadata": {},
   "source": [
    "count businesses by NTA"
   ]
  },
  {
   "cell_type": "code",
   "execution_count": null,
   "id": "ae6e1eaf",
   "metadata": {},
   "outputs": [],
   "source": [
    "ntacounts = ecdata[\"NTA\"].value_counts()\n",
    "ntacounts"
   ]
  },
  {
   "cell_type": "markdown",
   "id": "fcb35343",
   "metadata": {},
   "source": [
    "sum jobs created "
   ]
  },
  {
   "cell_type": "code",
   "execution_count": null,
   "id": "a435e463",
   "metadata": {},
   "outputs": [],
   "source": [
    "jobsum = ecdata[[\"Job created\", \"NTA\"]].groupby([\"NTA\"]).sum() "
   ]
  },
  {
   "cell_type": "markdown",
   "id": "c3a5e4d5",
   "metadata": {},
   "source": [
    "create a new column, mean savings"
   ]
  },
  {
   "cell_type": "code",
   "execution_count": null,
   "id": "06082789",
   "metadata": {},
   "outputs": [],
   "source": [
    "meansaved = ecdata[[\"Total Savings\", \"NTA\"]].groupby([\"NTA\"]).mean()"
   ]
  },
  {
   "cell_type": "markdown",
   "id": "439ac47f",
   "metadata": {},
   "source": [
    "concatenate (cbind) my 3 series into a new data table"
   ]
  },
  {
   "cell_type": "code",
   "execution_count": null,
   "id": "c3636589",
   "metadata": {},
   "outputs": [],
   "source": [
    "summary = pd.concat([ntacounts, meansaved, jobsum], axis = 1)"
   ]
  },
  {
   "cell_type": "markdown",
   "id": "7e389097",
   "metadata": {},
   "source": [
    "output #filter with loc "
   ]
  },
  {
   "cell_type": "code",
   "execution_count": null,
   "id": "cc600228",
   "metadata": {},
   "outputs": [],
   "source": [
    "output = summary.loc[summary[\"count\"] >= 5, ['count', 'Job created', 'Total Savings']]"
   ]
  },
  {
   "cell_type": "markdown",
   "id": "ccc32865",
   "metadata": {},
   "source": [
    "export the results"
   ]
  },
  {
   "cell_type": "code",
   "execution_count": null,
   "id": "549fc54d",
   "metadata": {},
   "outputs": [],
   "source": [
    "path = 'C:/Users/Kathleen/Documents/GitWorkspace/binder-framework/'\n",
    "output.to_csv(path+'day4milestone.csv')"
   ]
  },
  {
   "cell_type": "markdown",
   "id": "39c25557",
   "metadata": {},
   "source": [
    "### Plotting  Milestone action items "
   ]
  },
  {
   "cell_type": "markdown",
   "id": "965480c8",
   "metadata": {},
   "source": [
    "Call packages"
   ]
  },
  {
   "cell_type": "code",
   "execution_count": null,
   "id": "5cd0085f",
   "metadata": {},
   "outputs": [],
   "source": [
    "import pandas as pd\n",
    "import numpy as np\n",
    "import matplotlib.pyplot as plt\n",
    "import math\n",
    "import matplotlib.dates as mdates\n",
    "from matplotlib.dates import (YEARLY, DateFormatter, RRuleLocator, drange,\n",
    "                              rrulewrapper)"
   ]
  },
  {
   "cell_type": "markdown",
   "id": "4f347e0f",
   "metadata": {},
   "source": [
    "Import data"
   ]
  },
  {
   "cell_type": "code",
   "execution_count": null,
   "id": "e780fb0d",
   "metadata": {},
   "outputs": [],
   "source": [
    "path = 'C:/Users/Kathleen/Documents/Boot Camp/12 day/practice files/'\n",
    "ecdata = pd.read_csv(path + 'Value_of_Energy_Cost_Savings_Program_Savings_for_Businesses_20231207.csv')"
   ]
  },
  {
   "cell_type": "markdown",
   "id": "d938f885",
   "metadata": {},
   "source": [
    "peruse the data "
   ]
  },
  {
   "cell_type": "code",
   "execution_count": null,
   "id": "21302894",
   "metadata": {},
   "outputs": [],
   "source": [
    "summary = ecdata.describe()\n",
    "summary"
   ]
  },
  {
   "cell_type": "markdown",
   "id": "493c98aa",
   "metadata": {},
   "source": [
    "peruse the data 2"
   ]
  },
  {
   "cell_type": "code",
   "execution_count": null,
   "id": "97c8b78b",
   "metadata": {},
   "outputs": [],
   "source": [
    "ecdata.columns"
   ]
  },
  {
   "cell_type": "markdown",
   "id": "1dd0d849",
   "metadata": {},
   "source": [
    "#### 1. Scatter plot of jobs created versus average savings. Use both a standard and a logarithmic scale for the average savings."
   ]
  },
  {
   "cell_type": "code",
   "execution_count": null,
   "id": "89b8e33a",
   "metadata": {},
   "outputs": [],
   "source": [
    "fig, (ax1, ax2) = plt.subplots(1, 2, figsize = (10, 3))\n",
    "ax1.scatter(ecdata['Job created'], ecdata['Total Savings'])\n",
    "ax1.set_title('Total Savings by Jobs Created (linear scale)')\n",
    "ax1.set_xlabel('Jobs created (by business)')\n",
    "ax1.set_ylabel('Total savings (by biz)')\n",
    "ax2.scatter(ecdata['Job created'], ecdata['Total Savings'])\n",
    "ax2.set_xscale('log')\n",
    "ax2.set_yscale('log')\n",
    "ax2.set_title('Total Savings by Jobs Created (log scale)')\n",
    "ax2.set_xlabel('Jobs created (by business)')\n",
    "ax2.set_ylabel('Total savings (by biz)')"
   ]
  },
  {
   "cell_type": "markdown",
   "id": "d2f56a75",
   "metadata": {},
   "source": [
    "#### 2. histogram of the log of the total savings "
   ]
  },
  {
   "cell_type": "code",
   "execution_count": null,
   "id": "f4b20899",
   "metadata": {},
   "outputs": [],
   "source": [
    "ecdata['Total Savings'].describe()\n",
    "fig, ax = plt.subplots()\n",
    "ax.hist(ecdata['Total Savings'], bins = 30)\n",
    "ax.set_xscale('log')\n",
    "ax.set_yscale('log')\n",
    "\n",
    "#The actual text was to make a \"histogram of the log of the total AVERAGE savings\" but the average of the total savings column would be a sinle data point, and there for not histogramable.  "
   ]
  },
  {
   "cell_type": "markdown",
   "id": "2972d466",
   "metadata": {},
   "source": [
    "#### 3. line plot of the total jobs created for each month."
   ]
  },
  {
   "cell_type": "markdown",
   "id": "6dd875b7",
   "metadata": {},
   "source": [
    "Steps: \n",
    "convert the \"effective date\" column into an actual posixct / datetime variable \n",
    "group data by month \n",
    "graph the summary "
   ]
  },
  {
   "cell_type": "code",
   "execution_count": null,
   "id": "72c11530",
   "metadata": {},
   "outputs": [],
   "source": [
    "summary = ecdata.groupby([\"Period\"])[\"Job created\"].sum()\n",
    "fig, ax1 = plt.subplots()\n",
    "ax1.plot(summary.index, summary)\n",
    "summary.index\n",
    "ecdata['Effective Date'].value_counts()"
   ]
  },
  {
   "cell_type": "markdown",
   "id": "c8a7d483",
   "metadata": {},
   "source": [
    "create a datetime variable"
   ]
  },
  {
   "cell_type": "code",
   "execution_count": null,
   "id": "e982f2fa",
   "metadata": {},
   "outputs": [],
   "source": [
    "ecdata[\"Effective Date\"].head(20)\n",
    "ecdata[\"effdate\"] = pd.to_datetime(ecdata['Effective Date'], dayfirst=False)\n",
    "ecdata.info() #see that the new variable has been added \n",
    "ecdata[\"effdate\"].head(20) #preview the new variable "
   ]
  },
  {
   "cell_type": "markdown",
   "id": "3ce344de",
   "metadata": {},
   "source": [
    "group the savings from each month"
   ]
  },
  {
   "cell_type": "code",
   "execution_count": null,
   "id": "351de89a",
   "metadata": {},
   "outputs": [],
   "source": [
    "monthsavings = ecdata.groupby(pd.Grouper(key=\"effdate\", freq=\"1M\"))[\"Total Savings\"].sum()\n"
   ]
  },
  {
   "cell_type": "markdown",
   "id": "4f80b55e",
   "metadata": {},
   "source": [
    "graph the result "
   ]
  },
  {
   "cell_type": "code",
   "execution_count": null,
   "id": "4fbeba73",
   "metadata": {},
   "outputs": [],
   "source": [
    "fig, ax = plt.subplots(figsize = (10, 3))\n",
    "ax.plot(monthsavings.index, monthsavings) \n",
    "ax.xaxis.set_tick_params(rotation=30, labelsize =10)\n",
    "#This is actually works! graphs values by months, labels by years! But here we go... \n",
    "rule = rrulewrapper(YEARLY)\n",
    "loc = RRuleLocator(rule)\n",
    "formatter=DateFormatter('%Y')\n",
    "\n",
    "fig, ax = plt.subplots(figsize = (10, 3))\n",
    "plt.plot(monthsavings.index, monthsavings, 'o') \n",
    "ax.xaxis.set_major_locator(loc)\n",
    "ax.xaxis.set_major_formatter(formatter)\n",
    "ax.xaxis.set_tick_params(rotation=30, labelsize =10)"
   ]
  },
  {
   "cell_type": "markdown",
   "id": "407dc461",
   "metadata": {},
   "source": [
    "alternate approach: plot by month, cyclically over all years"
   ]
  },
  {
   "cell_type": "markdown",
   "id": "0ac844d5",
   "metadata": {},
   "source": [
    "group the data"
   ]
  },
  {
   "cell_type": "code",
   "execution_count": null,
   "id": "361a36de",
   "metadata": {},
   "outputs": [],
   "source": [
    "ecdata.groupby(ecdata['effdate'].dt.month)[\"Total Savings\"].sum()\n",
    "monthsum = ecdata.groupby(ecdata['effdate'].dt.month)[\"Total Savings\"].sum()"
   ]
  },
  {
   "cell_type": "markdown",
   "id": "baa6c81a",
   "metadata": {},
   "source": [
    "plot the data"
   ]
  },
  {
   "cell_type": "code",
   "execution_count": null,
   "id": "ef70a65a",
   "metadata": {},
   "outputs": [],
   "source": [
    "fig, ax = plt.subplots(figsize = (10, 3))\n",
    "ax.plot(monthsum.index, monthsum) \n",
    "ax.set_xticks(np.arange(1,13,1), ['Jan', 'Feb', 'Mar', 'Apr', 'May', 'Jun', 'Jul', 'Aug', 'Sep', 'Oct', 'Nov', 'Dec'])\n",
    "ax.xaxis.set_tick_params(rotation=30, labelsize =10)\n",
    "#cyclical - shows most savings are reported at end of fiscal year."
   ]
  }
 ],
 "metadata": {
  "kernelspec": {
   "display_name": "Python 3 (ipykernel)",
   "language": "python",
   "name": "python3"
  },
  "language_info": {
   "codemirror_mode": {
    "name": "ipython",
    "version": 3
   },
   "file_extension": ".py",
   "mimetype": "text/x-python",
   "name": "python",
   "nbconvert_exporter": "python",
   "pygments_lexer": "ipython3",
   "version": "3.11.5"
  }
 },
 "nbformat": 4,
 "nbformat_minor": 5
}
